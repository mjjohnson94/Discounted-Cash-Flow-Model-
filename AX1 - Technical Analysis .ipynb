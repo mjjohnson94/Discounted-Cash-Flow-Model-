{
 "cells": [
  {
   "cell_type": "code",
   "execution_count": 1,
   "metadata": {},
   "outputs": [],
   "source": [
    "import yfinance as yf\n",
    "import pandas as pd\n",
    "from pandas_datareader import data as pdr"
   ]
  },
  {
   "cell_type": "code",
   "execution_count": 23,
   "metadata": {},
   "outputs": [
    {
     "name": "stdout",
     "output_type": "stream",
     "text": [
      "[*********************100%***********************]  1 of 1 completed\n"
     ]
    }
   ],
   "source": [
    "asxTicker = 'AX1.AX'\n",
    "\n",
    "data = yf.download(\n",
    "        tickers = asxTicker,\n",
    "        period = \"1d\",\n",
    "        interval=\"15m\")"
   ]
  },
  {
   "cell_type": "code",
   "execution_count": 36,
   "metadata": {},
   "outputs": [
    {
     "data": {
      "text/html": [
       "<div>\n",
       "<style scoped>\n",
       "    .dataframe tbody tr th:only-of-type {\n",
       "        vertical-align: middle;\n",
       "    }\n",
       "\n",
       "    .dataframe tbody tr th {\n",
       "        vertical-align: top;\n",
       "    }\n",
       "\n",
       "    .dataframe thead th {\n",
       "        text-align: right;\n",
       "    }\n",
       "</style>\n",
       "<table border=\"1\" class=\"dataframe\">\n",
       "  <thead>\n",
       "    <tr style=\"text-align: right;\">\n",
       "      <th></th>\n",
       "      <th>Datetime</th>\n",
       "      <th>Open</th>\n",
       "      <th>Close</th>\n",
       "    </tr>\n",
       "  </thead>\n",
       "  <tbody>\n",
       "    <tr>\n",
       "      <th>0</th>\n",
       "      <td>2023-02-08 10:00:00+11:00</td>\n",
       "      <td>2.250</td>\n",
       "      <td>2.200</td>\n",
       "    </tr>\n",
       "    <tr>\n",
       "      <th>1</th>\n",
       "      <td>2023-02-08 10:15:00+11:00</td>\n",
       "      <td>2.195</td>\n",
       "      <td>2.210</td>\n",
       "    </tr>\n",
       "    <tr>\n",
       "      <th>2</th>\n",
       "      <td>2023-02-08 10:30:00+11:00</td>\n",
       "      <td>2.200</td>\n",
       "      <td>2.185</td>\n",
       "    </tr>\n",
       "    <tr>\n",
       "      <th>3</th>\n",
       "      <td>2023-02-08 10:45:00+11:00</td>\n",
       "      <td>2.180</td>\n",
       "      <td>2.170</td>\n",
       "    </tr>\n",
       "    <tr>\n",
       "      <th>4</th>\n",
       "      <td>2023-02-08 11:00:00+11:00</td>\n",
       "      <td>2.160</td>\n",
       "      <td>2.160</td>\n",
       "    </tr>\n",
       "    <tr>\n",
       "      <th>5</th>\n",
       "      <td>2023-02-08 11:15:00+11:00</td>\n",
       "      <td>2.155</td>\n",
       "      <td>2.160</td>\n",
       "    </tr>\n",
       "    <tr>\n",
       "      <th>6</th>\n",
       "      <td>2023-02-08 11:30:00+11:00</td>\n",
       "      <td>2.150</td>\n",
       "      <td>2.150</td>\n",
       "    </tr>\n",
       "    <tr>\n",
       "      <th>7</th>\n",
       "      <td>2023-02-08 11:45:00+11:00</td>\n",
       "      <td>2.145</td>\n",
       "      <td>2.150</td>\n",
       "    </tr>\n",
       "    <tr>\n",
       "      <th>8</th>\n",
       "      <td>2023-02-08 12:00:00+11:00</td>\n",
       "      <td>2.150</td>\n",
       "      <td>2.130</td>\n",
       "    </tr>\n",
       "    <tr>\n",
       "      <th>9</th>\n",
       "      <td>2023-02-08 12:15:00+11:00</td>\n",
       "      <td>2.130</td>\n",
       "      <td>2.130</td>\n",
       "    </tr>\n",
       "    <tr>\n",
       "      <th>10</th>\n",
       "      <td>2023-02-08 12:30:00+11:00</td>\n",
       "      <td>2.130</td>\n",
       "      <td>2.130</td>\n",
       "    </tr>\n",
       "    <tr>\n",
       "      <th>11</th>\n",
       "      <td>2023-02-08 12:45:00+11:00</td>\n",
       "      <td>2.135</td>\n",
       "      <td>2.150</td>\n",
       "    </tr>\n",
       "    <tr>\n",
       "      <th>12</th>\n",
       "      <td>2023-02-08 13:00:00+11:00</td>\n",
       "      <td>2.145</td>\n",
       "      <td>2.145</td>\n",
       "    </tr>\n",
       "    <tr>\n",
       "      <th>13</th>\n",
       "      <td>2023-02-08 13:15:00+11:00</td>\n",
       "      <td>2.140</td>\n",
       "      <td>2.130</td>\n",
       "    </tr>\n",
       "    <tr>\n",
       "      <th>14</th>\n",
       "      <td>2023-02-08 13:30:00+11:00</td>\n",
       "      <td>2.130</td>\n",
       "      <td>2.140</td>\n",
       "    </tr>\n",
       "    <tr>\n",
       "      <th>15</th>\n",
       "      <td>2023-02-08 13:45:00+11:00</td>\n",
       "      <td>2.130</td>\n",
       "      <td>2.130</td>\n",
       "    </tr>\n",
       "    <tr>\n",
       "      <th>16</th>\n",
       "      <td>2023-02-08 14:00:00+11:00</td>\n",
       "      <td>2.120</td>\n",
       "      <td>2.120</td>\n",
       "    </tr>\n",
       "    <tr>\n",
       "      <th>17</th>\n",
       "      <td>2023-02-08 14:15:00+11:00</td>\n",
       "      <td>2.120</td>\n",
       "      <td>2.120</td>\n",
       "    </tr>\n",
       "    <tr>\n",
       "      <th>18</th>\n",
       "      <td>2023-02-08 14:30:00+11:00</td>\n",
       "      <td>2.120</td>\n",
       "      <td>2.115</td>\n",
       "    </tr>\n",
       "    <tr>\n",
       "      <th>19</th>\n",
       "      <td>2023-02-08 14:45:00+11:00</td>\n",
       "      <td>2.110</td>\n",
       "      <td>2.110</td>\n",
       "    </tr>\n",
       "    <tr>\n",
       "      <th>20</th>\n",
       "      <td>2023-02-08 15:00:00+11:00</td>\n",
       "      <td>2.110</td>\n",
       "      <td>2.100</td>\n",
       "    </tr>\n",
       "    <tr>\n",
       "      <th>21</th>\n",
       "      <td>2023-02-08 15:15:00+11:00</td>\n",
       "      <td>2.100</td>\n",
       "      <td>2.090</td>\n",
       "    </tr>\n",
       "    <tr>\n",
       "      <th>22</th>\n",
       "      <td>2023-02-08 15:30:00+11:00</td>\n",
       "      <td>2.090</td>\n",
       "      <td>2.090</td>\n",
       "    </tr>\n",
       "    <tr>\n",
       "      <th>23</th>\n",
       "      <td>2023-02-08 15:45:00+11:00</td>\n",
       "      <td>2.090</td>\n",
       "      <td>2.100</td>\n",
       "    </tr>\n",
       "  </tbody>\n",
       "</table>\n",
       "</div>"
      ],
      "text/plain": [
       "                    Datetime   Open  Close\n",
       "0  2023-02-08 10:00:00+11:00  2.250  2.200\n",
       "1  2023-02-08 10:15:00+11:00  2.195  2.210\n",
       "2  2023-02-08 10:30:00+11:00  2.200  2.185\n",
       "3  2023-02-08 10:45:00+11:00  2.180  2.170\n",
       "4  2023-02-08 11:00:00+11:00  2.160  2.160\n",
       "5  2023-02-08 11:15:00+11:00  2.155  2.160\n",
       "6  2023-02-08 11:30:00+11:00  2.150  2.150\n",
       "7  2023-02-08 11:45:00+11:00  2.145  2.150\n",
       "8  2023-02-08 12:00:00+11:00  2.150  2.130\n",
       "9  2023-02-08 12:15:00+11:00  2.130  2.130\n",
       "10 2023-02-08 12:30:00+11:00  2.130  2.130\n",
       "11 2023-02-08 12:45:00+11:00  2.135  2.150\n",
       "12 2023-02-08 13:00:00+11:00  2.145  2.145\n",
       "13 2023-02-08 13:15:00+11:00  2.140  2.130\n",
       "14 2023-02-08 13:30:00+11:00  2.130  2.140\n",
       "15 2023-02-08 13:45:00+11:00  2.130  2.130\n",
       "16 2023-02-08 14:00:00+11:00  2.120  2.120\n",
       "17 2023-02-08 14:15:00+11:00  2.120  2.120\n",
       "18 2023-02-08 14:30:00+11:00  2.120  2.115\n",
       "19 2023-02-08 14:45:00+11:00  2.110  2.110\n",
       "20 2023-02-08 15:00:00+11:00  2.110  2.100\n",
       "21 2023-02-08 15:15:00+11:00  2.100  2.090\n",
       "22 2023-02-08 15:30:00+11:00  2.090  2.090\n",
       "23 2023-02-08 15:45:00+11:00  2.090  2.100"
      ]
     },
     "execution_count": 36,
     "metadata": {},
     "output_type": "execute_result"
    }
   ],
   "source": [
    "dataFrame = pd.DataFrame({\"Open\":data['Open'], \"Close\": data['Close']}).reset_index()\n",
    "\n",
    "dataFrame"
   ]
  },
  {
   "cell_type": "code",
   "execution_count": 24,
   "metadata": {},
   "outputs": [
    {
     "data": {
      "text/plain": [
       "<AxesSubplot:xlabel='Datetime'>"
      ]
     },
     "execution_count": 24,
     "metadata": {},
     "output_type": "execute_result"
    },
    {
     "data": {
      "image/png": "[encoded data removed]",
      "text/plain": [
       "<Figure size 432x288 with 1 Axes>"
      ]
     },
     "metadata": {
      "needs_background": "light"
     },
     "output_type": "display_data"
    }
   ],
   "source": [
    "data['Volume'].plot()"
   ]
  },
  {
   "cell_type": "code",
   "execution_count": 25,
   "metadata": {},
   "outputs": [
    {
     "data": {
      "text/plain": [
       "<AxesSubplot:xlabel='Datetime'>"
      ]
     },
     "execution_count": 25,
     "metadata": {},
     "output_type": "execute_result"
    },
    {
     "data": {
      "image/png": "[encoded data removed]",
      "text/plain": [
       "<Figure size 432x288 with 1 Axes>"
      ]
     },
     "metadata": {
      "needs_background": "light"
     },
     "output_type": "display_data"
    }
   ],
   "source": [
    "data['Close'].plot()"
   ]
  },
  {
   "cell_type": "code",
   "execution_count": null,
   "metadata": {},
   "outputs": [],
   "source": []
  }
 ],
 "metadata": {
  "kernelspec": {
   "display_name": "Python 3",
   "language": "python",
   "name": "python3"
  },
  "language_info": {
   "codemirror_mode": {
    "name": "ipython",
    "version": 3
   },
   "file_extension": ".py",
   "mimetype": "text/x-python",
   "name": "python",
   "nbconvert_exporter": "python",
   "pygments_lexer": "ipython3",
   "version": "3.8.5"
  }
 },
 "nbformat": 4,
 "nbformat_minor": 4
}
