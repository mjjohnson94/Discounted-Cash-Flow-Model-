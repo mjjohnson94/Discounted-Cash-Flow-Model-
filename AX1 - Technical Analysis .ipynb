{
 "cells": [
  {
   "cell_type": "code",
   "execution_count": 1,
   "metadata": {},
   "outputs": [],
   "source": [
    "import yfinance as yf\n",
    "import pandas as pd\n",
    "from pandas_datareader import data as pdr"
   ]
  },
  {
   "cell_type": "code",
   "execution_count": 2,
   "metadata": {},
   "outputs": [
    {
     "name": "stdout",
     "output_type": "stream",
     "text": [
      "[*********************100%***********************]  1 of 1 completed\n"
     ]
    }
   ],
   "source": [
    "asxTicker = 'AX1.AX'\n",
    "\n",
    "data = yf.download(\n",
    "        tickers = asxTicker,\n",
    "        period = \"1y\",\n",
    "        interval=\"1wk\")"
   ]
  },
  {
   "cell_type": "code",
   "execution_count": 89,
   "metadata": {},
   "outputs": [],
   "source": [
    "dataFrame = pd.DataFrame({\"Open\":data['Open'], \"Close\": data['Close'], \"Volume\": data['Volume']})\n",
    "\n",
    "dataFrame['Delta'] = dataFrame['Close'] - dataFrame['Open']"
   ]
  },
  {
   "cell_type": "code",
   "execution_count": 90,
   "metadata": {},
   "outputs": [],
   "source": [
    "dataFrame['MA10'] = dataFrame['Close'].rolling(10).mean()"
   ]
  },
  {
   "cell_type": "code",
   "execution_count": 91,
   "metadata": {},
   "outputs": [
    {
     "name": "stdout",
     "output_type": "stream",
     "text": [
      "\n"
     ]
    },
    {
     "data": {
      "image/png": "[encoded data removed]",
      "text/plain": [
       "<Figure size 720x288 with 1 Axes>"
      ]
     },
     "metadata": {
      "needs_background": "light"
     },
     "output_type": "display_data"
    }
   ],
   "source": [
    "dataFrame = dataFrame.reset_index()\n",
    "\n",
    "dataFrame.plot(x = 'Date', y = 'Close',\n",
    "            title= asxTicker + ' - ' + '52 Week Closing Price (02/2022 - 02/2023)' ,\n",
    "            ylabel=\"Closing Price\",\n",
    "            xlabel=\"Date\",\n",
    "            figsize=(10, 4))\n",
    "\n",
    "print(\"\")"
   ]
  },
  {
   "cell_type": "code",
   "execution_count": 61,
   "metadata": {},
   "outputs": [],
   "source": [
    "def func(row):\n",
    "    \n",
    "    if row['Close'] > row['Open']:\n",
    "        val = \"Gain\"\n",
    "    elif row['Close'] < row['Open']:\n",
    "        val = \"Loss\"\n",
    "    else:\n",
    "        val = \"No Change\"\n",
    "    return val\n",
    "\n",
    "dataFrame['Price Movement (Gain/Loss)'] = dataFrame.apply(func, axis=1)"
   ]
  },
  {
   "cell_type": "code",
   "execution_count": 82,
   "metadata": {
    "scrolled": true
   },
   "outputs": [
    {
     "data": {
      "text/html": [
       "<div>\n",
       "<style scoped>\n",
       "    .dataframe tbody tr th:only-of-type {\n",
       "        vertical-align: middle;\n",
       "    }\n",
       "\n",
       "    .dataframe tbody tr th {\n",
       "        vertical-align: top;\n",
       "    }\n",
       "\n",
       "    .dataframe thead th {\n",
       "        text-align: right;\n",
       "    }\n",
       "</style>\n",
       "<table border=\"1\" class=\"dataframe\">\n",
       "  <thead>\n",
       "    <tr style=\"text-align: right;\">\n",
       "      <th></th>\n",
       "      <th>Close</th>\n",
       "      <th>Volume</th>\n",
       "    </tr>\n",
       "  </thead>\n",
       "  <tbody>\n",
       "    <tr>\n",
       "      <th>count</th>\n",
       "      <td>53.00</td>\n",
       "      <td>53</td>\n",
       "    </tr>\n",
       "    <tr>\n",
       "      <th>mean</th>\n",
       "      <td>1.57</td>\n",
       "      <td>4876648</td>\n",
       "    </tr>\n",
       "    <tr>\n",
       "      <th>std</th>\n",
       "      <td>0.26</td>\n",
       "      <td>2184651</td>\n",
       "    </tr>\n",
       "    <tr>\n",
       "      <th>min</th>\n",
       "      <td>1.20</td>\n",
       "      <td>657255</td>\n",
       "    </tr>\n",
       "    <tr>\n",
       "      <th>25%</th>\n",
       "      <td>1.36</td>\n",
       "      <td>3114100</td>\n",
       "    </tr>\n",
       "    <tr>\n",
       "      <th>50%</th>\n",
       "      <td>1.54</td>\n",
       "      <td>4969225</td>\n",
       "    </tr>\n",
       "    <tr>\n",
       "      <th>75%</th>\n",
       "      <td>1.68</td>\n",
       "      <td>5795619</td>\n",
       "    </tr>\n",
       "    <tr>\n",
       "      <th>max</th>\n",
       "      <td>2.28</td>\n",
       "      <td>12165485</td>\n",
       "    </tr>\n",
       "  </tbody>\n",
       "</table>\n",
       "</div>"
      ],
      "text/plain": [
       "       Close    Volume\n",
       "count  53.00        53\n",
       "mean    1.57   4876648\n",
       "std     0.26   2184651\n",
       "min     1.20    657255\n",
       "25%     1.36   3114100\n",
       "50%     1.54   4969225\n",
       "75%     1.68   5795619\n",
       "max     2.28  12165485"
      ]
     },
     "execution_count": 82,
     "metadata": {},
     "output_type": "execute_result"
    }
   ],
   "source": [
    "x = dataFrame[[\"Close\", \"Volume\"]].describe()\n",
    "\n",
    "x ['Volume'] = x['Volume'].astype(int)\n",
    "\n",
    "x['Close'] = x['Close'].round(2) \n",
    "\n",
    "x"
   ]
  },
  {
   "cell_type": "code",
   "execution_count": null,
   "metadata": {},
   "outputs": [],
   "source": []
  }
 ],
 "metadata": {
  "kernelspec": {
   "display_name": "Python 3",
   "language": "python",
   "name": "python3"
  },
  "language_info": {
   "codemirror_mode": {
    "name": "ipython",
    "version": 3
   },
   "file_extension": ".py",
   "mimetype": "text/x-python",
   "name": "python",
   "nbconvert_exporter": "python",
   "pygments_lexer": "ipython3",
   "version": "3.8.5"
  }
 },
 "nbformat": 4,
 "nbformat_minor": 4
}
