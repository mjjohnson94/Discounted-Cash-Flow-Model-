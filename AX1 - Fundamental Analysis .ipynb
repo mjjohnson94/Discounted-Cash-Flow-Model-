{
 "cells": [
  {
   "cell_type": "code",
   "execution_count": 1,
   "metadata": {},
   "outputs": [
    {
     "name": "stderr",
     "output_type": "stream",
     "text": [
      "/Users/mathewjohnson/opt/anaconda3/lib/python3.8/site-packages/pandas/core/computation/expressions.py:20: UserWarning: Pandas requires version '2.7.3' or newer of 'numexpr' (version '2.7.1' currently installed).\n",
      "  from pandas.core.computation.check import NUMEXPR_INSTALLED\n"
     ]
    }
   ],
   "source": [
    "## Import dependencies \n",
    "\n",
    "import yfinance as yf\n",
    "import pandas as pd"
   ]
  },
  {
   "cell_type": "code",
   "execution_count": 2,
   "metadata": {
    "scrolled": true
   },
   "outputs": [],
   "source": [
    "## Ticker module allows access to ticker data from the Yahoo Finance API \n",
    "\n",
    "# Select a ticker and assign to Ticker module \n",
    "AX1 = yf.Ticker(\"AX1.AX\")\n",
    "\n",
    "# Call Income Statement, Balance Sheet & Cash Flow Statement data from selected ticker \n",
    "# Each element will be used to calculate financial ratios \n",
    "incomeStatement = AX1.income_stmt\n",
    "balanceSheet = AX1.balance_sheet\n",
    "cashFlowStatement = AX1.cashflow"
   ]
  },
  {
   "cell_type": "code",
   "execution_count": 3,
   "metadata": {},
   "outputs": [],
   "source": [
    "cashFlowStatement.to_csv('Desktop/AX1CashFlow.csv')"
   ]
  },
  {
   "cell_type": "code",
   "execution_count": 3,
   "metadata": {},
   "outputs": [],
   "source": [
    "############# Liquidity Ratios ############# \n",
    "\n",
    "# Liquidity ratios measure the ability to repay short & long term debt obligations \n",
    "\n",
    "# Debt to Assets  \n",
    "# Current Ratio \n",
    "# Acid Test \n",
    "# Cash Ratio "
   ]
  },
  {
   "cell_type": "code",
   "execution_count": 4,
   "metadata": {},
   "outputs": [],
   "source": [
    "## Debt to Assets ##\n",
    "\n",
    "# Select total assets & total liabilities from Balance Sheet DataFrame \n",
    "\n",
    "assets = pd.DataFrame(balanceSheet.loc['Total Assets'])\n",
    "liabilities = pd.DataFrame(balanceSheet.loc['Total Liabilities Net Minority Interest'])"
   ]
  },
  {
   "cell_type": "code",
   "execution_count": 5,
   "metadata": {},
   "outputs": [],
   "source": [
    "# Create new DataFrame dispalying total assets & total liabilities using concat to concentrate the two objects \n",
    "\n",
    "debtToAssets = pd.concat([assets['Total Assets'], liabilities['Total Liabilities Net Minority Interest']], \n",
    "                         axis=1, keys=['Assets', 'Liabilities'])\n",
    "\n",
    "\n",
    "# Create a new column named Debt to Assets & divide total assets by total liabilities to calculate the figure \n",
    "debtToAssets['Debt to Assets'] = debtToAssets['Assets'] / debtToAssets['Liabilities']"
   ]
  },
  {
   "cell_type": "code",
   "execution_count": 6,
   "metadata": {},
   "outputs": [
    {
     "data": {
      "text/html": [
       "<div>\n",
       "<style scoped>\n",
       "    .dataframe tbody tr th:only-of-type {\n",
       "        vertical-align: middle;\n",
       "    }\n",
       "\n",
       "    .dataframe tbody tr th {\n",
       "        vertical-align: top;\n",
       "    }\n",
       "\n",
       "    .dataframe thead th {\n",
       "        text-align: right;\n",
       "    }\n",
       "</style>\n",
       "<table border=\"1\" class=\"dataframe\">\n",
       "  <thead>\n",
       "    <tr style=\"text-align: right;\">\n",
       "      <th></th>\n",
       "      <th>Assets</th>\n",
       "      <th>Liabilities</th>\n",
       "      <th>Debt to Assets</th>\n",
       "    </tr>\n",
       "  </thead>\n",
       "  <tbody>\n",
       "    <tr>\n",
       "      <th>2022-06-30</th>\n",
       "      <td>1215834000.0</td>\n",
       "      <td>775608000.0</td>\n",
       "      <td>1.567588</td>\n",
       "    </tr>\n",
       "    <tr>\n",
       "      <th>2021-06-30</th>\n",
       "      <td>1112176000.0</td>\n",
       "      <td>683196000.0</td>\n",
       "      <td>1.627902</td>\n",
       "    </tr>\n",
       "    <tr>\n",
       "      <th>2020-06-30</th>\n",
       "      <td>956235000.0</td>\n",
       "      <td>547025000.0</td>\n",
       "      <td>1.748065</td>\n",
       "    </tr>\n",
       "    <tr>\n",
       "      <th>2019-06-30</th>\n",
       "      <td>669599000.0</td>\n",
       "      <td>266262000.0</td>\n",
       "      <td>2.514812</td>\n",
       "    </tr>\n",
       "  </tbody>\n",
       "</table>\n",
       "</div>"
      ],
      "text/plain": [
       "                  Assets  Liabilities Debt to Assets\n",
       "2022-06-30  1215834000.0  775608000.0       1.567588\n",
       "2021-06-30  1112176000.0  683196000.0       1.627902\n",
       "2020-06-30   956235000.0  547025000.0       1.748065\n",
       "2019-06-30   669599000.0  266262000.0       2.514812"
      ]
     },
     "execution_count": 6,
     "metadata": {},
     "output_type": "execute_result"
    }
   ],
   "source": [
    "# Print results \n",
    "\n",
    "debtToAssets"
   ]
  },
  {
   "cell_type": "code",
   "execution_count": 7,
   "metadata": {},
   "outputs": [],
   "source": [
    "## Current Ratio ## \n",
    "\n",
    "# Select current assets & current liabilities from Balance Sheet DataFrame \n",
    "\n",
    "currentAssets = pd.DataFrame(balanceSheet.loc['Current Assets'])\n",
    "currentLiabilities =  pd.DataFrame(balanceSheet.loc['Current Liabilities'])"
   ]
  },
  {
   "cell_type": "code",
   "execution_count": 8,
   "metadata": {},
   "outputs": [],
   "source": [
    "# Create new DataFrame dispalying total current assets & total current liabilities using concat to concentrate the two objects \n",
    "\n",
    "currentRatio = pd.concat([currentAssets['Current Assets'], currentLiabilities['Current Liabilities']], \n",
    "                         axis=1, keys=['Current Assets', 'Current Liabilities'])\n"
   ]
  },
  {
   "cell_type": "code",
   "execution_count": 9,
   "metadata": {},
   "outputs": [],
   "source": [
    "# Create a new column named Current Ratio & divide total current assets by total current liabilities to calculate the figure \n",
    "\n",
    "currentRatio['Current Ratio'] = currentRatio['Current Assets'] / currentRatio['Current Liabilities']"
   ]
  },
  {
   "cell_type": "code",
   "execution_count": 10,
   "metadata": {},
   "outputs": [
    {
     "data": {
      "text/html": [
       "<div>\n",
       "<style scoped>\n",
       "    .dataframe tbody tr th:only-of-type {\n",
       "        vertical-align: middle;\n",
       "    }\n",
       "\n",
       "    .dataframe tbody tr th {\n",
       "        vertical-align: top;\n",
       "    }\n",
       "\n",
       "    .dataframe thead th {\n",
       "        text-align: right;\n",
       "    }\n",
       "</style>\n",
       "<table border=\"1\" class=\"dataframe\">\n",
       "  <thead>\n",
       "    <tr style=\"text-align: right;\">\n",
       "      <th></th>\n",
       "      <th>Current Assets</th>\n",
       "      <th>Current Liabilities</th>\n",
       "      <th>Current Ratio</th>\n",
       "    </tr>\n",
       "  </thead>\n",
       "  <tbody>\n",
       "    <tr>\n",
       "      <th>2022-06-30</th>\n",
       "      <td>375189000.0</td>\n",
       "      <td>313122000.0</td>\n",
       "      <td>1.19822</td>\n",
       "    </tr>\n",
       "    <tr>\n",
       "      <th>2021-06-30</th>\n",
       "      <td>304805000.0</td>\n",
       "      <td>340163000.0</td>\n",
       "      <td>0.896056</td>\n",
       "    </tr>\n",
       "    <tr>\n",
       "      <th>2020-06-30</th>\n",
       "      <td>230600000.0</td>\n",
       "      <td>234579000.0</td>\n",
       "      <td>0.983038</td>\n",
       "    </tr>\n",
       "    <tr>\n",
       "      <th>2019-06-30</th>\n",
       "      <td>203757000.0</td>\n",
       "      <td>167104000.0</td>\n",
       "      <td>1.219342</td>\n",
       "    </tr>\n",
       "  </tbody>\n",
       "</table>\n",
       "</div>"
      ],
      "text/plain": [
       "           Current Assets Current Liabilities Current Ratio\n",
       "2022-06-30    375189000.0         313122000.0       1.19822\n",
       "2021-06-30    304805000.0         340163000.0      0.896056\n",
       "2020-06-30    230600000.0         234579000.0      0.983038\n",
       "2019-06-30    203757000.0         167104000.0      1.219342"
      ]
     },
     "execution_count": 10,
     "metadata": {},
     "output_type": "execute_result"
    }
   ],
   "source": [
    "# Print results \n",
    "\n",
    "currentRatio"
   ]
  },
  {
   "cell_type": "code",
   "execution_count": 11,
   "metadata": {},
   "outputs": [],
   "source": [
    "## Acid Test \n",
    "\n",
    "# Create acidTest DataFrame containing current assets & current liabilities from Balance Sheet object \n",
    "\n",
    "acidTest = pd.concat([currentAssets['Current Assets'], currentLiabilities['Current Liabilities']], \n",
    "                         axis=1, keys=['Current Assets', 'Current Liabilities'])\n",
    "\n",
    "# Create a new column named Inventory and locate Inventory data from Balance Sheet object \n",
    "\n",
    "acidTest['Inventory'] = pd.DataFrame(balanceSheet.loc['Inventory'])\n",
    "\n",
    "# Create a new column named Acid Test and calculate by deducting inentory from current assets & dividing by current liabilities\n",
    "acidTest['Acid Test'] = (acidTest['Current Assets'] - acidTest['Inventory']) / acidTest['Current Liabilities']                                                                              "
   ]
  },
  {
   "cell_type": "code",
   "execution_count": 12,
   "metadata": {},
   "outputs": [
    {
     "data": {
      "text/html": [
       "<div>\n",
       "<style scoped>\n",
       "    .dataframe tbody tr th:only-of-type {\n",
       "        vertical-align: middle;\n",
       "    }\n",
       "\n",
       "    .dataframe tbody tr th {\n",
       "        vertical-align: top;\n",
       "    }\n",
       "\n",
       "    .dataframe thead th {\n",
       "        text-align: right;\n",
       "    }\n",
       "</style>\n",
       "<table border=\"1\" class=\"dataframe\">\n",
       "  <thead>\n",
       "    <tr style=\"text-align: right;\">\n",
       "      <th></th>\n",
       "      <th>Current Assets</th>\n",
       "      <th>Current Liabilities</th>\n",
       "      <th>Inventory</th>\n",
       "      <th>Acid Test</th>\n",
       "    </tr>\n",
       "  </thead>\n",
       "  <tbody>\n",
       "    <tr>\n",
       "      <th>2022-06-30</th>\n",
       "      <td>375189000.0</td>\n",
       "      <td>313122000.0</td>\n",
       "      <td>241631000.0</td>\n",
       "      <td>0.426537</td>\n",
       "    </tr>\n",
       "    <tr>\n",
       "      <th>2021-06-30</th>\n",
       "      <td>304805000.0</td>\n",
       "      <td>340163000.0</td>\n",
       "      <td>216881000.0</td>\n",
       "      <td>0.258476</td>\n",
       "    </tr>\n",
       "    <tr>\n",
       "      <th>2020-06-30</th>\n",
       "      <td>230600000.0</td>\n",
       "      <td>234579000.0</td>\n",
       "      <td>129106000.0</td>\n",
       "      <td>0.432664</td>\n",
       "    </tr>\n",
       "    <tr>\n",
       "      <th>2019-06-30</th>\n",
       "      <td>203757000.0</td>\n",
       "      <td>167104000.0</td>\n",
       "      <td>131470000.0</td>\n",
       "      <td>0.432587</td>\n",
       "    </tr>\n",
       "  </tbody>\n",
       "</table>\n",
       "</div>"
      ],
      "text/plain": [
       "           Current Assets Current Liabilities    Inventory Acid Test\n",
       "2022-06-30    375189000.0         313122000.0  241631000.0  0.426537\n",
       "2021-06-30    304805000.0         340163000.0  216881000.0  0.258476\n",
       "2020-06-30    230600000.0         234579000.0  129106000.0  0.432664\n",
       "2019-06-30    203757000.0         167104000.0  131470000.0  0.432587"
      ]
     },
     "execution_count": 12,
     "metadata": {},
     "output_type": "execute_result"
    }
   ],
   "source": [
    "# Print results \n",
    "\n",
    "acidTest"
   ]
  },
  {
   "cell_type": "code",
   "execution_count": 13,
   "metadata": {},
   "outputs": [],
   "source": [
    "## Cash Ratio (AKA Operating Cash Flow Ratio)\n",
    "\n",
    "\n",
    "operatingCashFlow = pd.DataFrame(cashFlowStatement.loc['Cash Flowsfromusedin Operating Activities Direct'])\n",
    "\n",
    "# Create cashFlowRatio DataFrame, calling data from the Balance Sheet & Cash Flow Statement objects \n",
    "\n",
    "cashFlowRatio = pd.concat([operatingCashFlow['Cash Flowsfromusedin Operating Activities Direct'], currentLiabilities['Current Liabilities']], \n",
    "                         axis=1, keys=['Operating Cash Flow', 'Current Liabilities'])\n",
    "\n",
    "# Calculate Cash Ratip by dividing operating cash flow by current liabilities \n",
    "\n",
    "cashFlowRatio['Operating Cash Ratio'] = cashFlowRatio['Operating Cash Flow'] / cashFlowRatio['Current Liabilities']                  "
   ]
  },
  {
   "cell_type": "code",
   "execution_count": 14,
   "metadata": {},
   "outputs": [
    {
     "data": {
      "text/html": [
       "<div>\n",
       "<style scoped>\n",
       "    .dataframe tbody tr th:only-of-type {\n",
       "        vertical-align: middle;\n",
       "    }\n",
       "\n",
       "    .dataframe tbody tr th {\n",
       "        vertical-align: top;\n",
       "    }\n",
       "\n",
       "    .dataframe thead th {\n",
       "        text-align: right;\n",
       "    }\n",
       "</style>\n",
       "<table border=\"1\" class=\"dataframe\">\n",
       "  <thead>\n",
       "    <tr style=\"text-align: right;\">\n",
       "      <th></th>\n",
       "      <th>Operating Cash Flow</th>\n",
       "      <th>Current Liabilities</th>\n",
       "      <th>Operating Cash Ratio</th>\n",
       "    </tr>\n",
       "  </thead>\n",
       "  <tbody>\n",
       "    <tr>\n",
       "      <th>2022-06-30</th>\n",
       "      <td>140346000.0</td>\n",
       "      <td>313122000.0</td>\n",
       "      <td>0.448215</td>\n",
       "    </tr>\n",
       "    <tr>\n",
       "      <th>2021-06-30</th>\n",
       "      <td>159409000.0</td>\n",
       "      <td>340163000.0</td>\n",
       "      <td>0.468625</td>\n",
       "    </tr>\n",
       "    <tr>\n",
       "      <th>2020-06-30</th>\n",
       "      <td>166672000.0</td>\n",
       "      <td>234579000.0</td>\n",
       "      <td>0.710515</td>\n",
       "    </tr>\n",
       "    <tr>\n",
       "      <th>2019-06-30</th>\n",
       "      <td>65687000.0</td>\n",
       "      <td>167104000.0</td>\n",
       "      <td>0.393091</td>\n",
       "    </tr>\n",
       "  </tbody>\n",
       "</table>\n",
       "</div>"
      ],
      "text/plain": [
       "           Operating Cash Flow Current Liabilities Operating Cash Ratio\n",
       "2022-06-30         140346000.0         313122000.0             0.448215\n",
       "2021-06-30         159409000.0         340163000.0             0.468625\n",
       "2020-06-30         166672000.0         234579000.0             0.710515\n",
       "2019-06-30          65687000.0         167104000.0             0.393091"
      ]
     },
     "execution_count": 14,
     "metadata": {},
     "output_type": "execute_result"
    }
   ],
   "source": [
    "# Print results \n",
    "\n",
    "cashFlowRatio"
   ]
  },
  {
   "cell_type": "code",
   "execution_count": 15,
   "metadata": {},
   "outputs": [],
   "source": [
    "############# Leverage Ratios ############# \n",
    "\n",
    "# Leverage ratios are used to measure the level of debt within a company \n",
    "\n",
    "# Debt to Assets (see above)\n",
    "# Debt to Equity \n",
    "# Interest Coverage "
   ]
  },
  {
   "cell_type": "code",
   "execution_count": 18,
   "metadata": {},
   "outputs": [],
   "source": [
    "## Debt to Equity \n",
    "\n",
    "# Select shareholder equity from Balance Sheet DataFrame \n",
    "\n",
    "shareholderEquity = pd.DataFrame(balanceSheet.loc['Stockholders Equity'])\n",
    "\n",
    "# Create new DataFrame dispalying shareholder equity & total liabilities using concat to concentrate the two objects \n",
    "\n",
    "debtToEquity = pd.concat([shareholderEquity['Stockholders Equity'], liabilities['Total Liabilities Net Minority Interest']], \n",
    "                         axis=1, keys=['Shareholder Equity', 'Total Liabilities'])\n",
    "\n",
    "# Calculate Debt to Equity by dividing total liabilities by shareholder equity \n",
    "\n",
    "debtToEquity['Debt to Equity'] = debtToEquity['Total Liabilities'] / debtToEquity['Shareholder Equity']"
   ]
  },
  {
   "cell_type": "code",
   "execution_count": 19,
   "metadata": {},
   "outputs": [
    {
     "data": {
      "text/html": [
       "<div>\n",
       "<style scoped>\n",
       "    .dataframe tbody tr th:only-of-type {\n",
       "        vertical-align: middle;\n",
       "    }\n",
       "\n",
       "    .dataframe tbody tr th {\n",
       "        vertical-align: top;\n",
       "    }\n",
       "\n",
       "    .dataframe thead th {\n",
       "        text-align: right;\n",
       "    }\n",
       "</style>\n",
       "<table border=\"1\" class=\"dataframe\">\n",
       "  <thead>\n",
       "    <tr style=\"text-align: right;\">\n",
       "      <th></th>\n",
       "      <th>Shareholder Equity</th>\n",
       "      <th>Total Liabilities</th>\n",
       "      <th>Debt to Equity</th>\n",
       "    </tr>\n",
       "  </thead>\n",
       "  <tbody>\n",
       "    <tr>\n",
       "      <th>2022-06-30</th>\n",
       "      <td>440226000.0</td>\n",
       "      <td>775608000.0</td>\n",
       "      <td>1.761841</td>\n",
       "    </tr>\n",
       "    <tr>\n",
       "      <th>2021-06-30</th>\n",
       "      <td>428980000.0</td>\n",
       "      <td>683196000.0</td>\n",
       "      <td>1.592606</td>\n",
       "    </tr>\n",
       "    <tr>\n",
       "      <th>2020-06-30</th>\n",
       "      <td>409210000.0</td>\n",
       "      <td>547025000.0</td>\n",
       "      <td>1.336783</td>\n",
       "    </tr>\n",
       "    <tr>\n",
       "      <th>2019-06-30</th>\n",
       "      <td>403337000.0</td>\n",
       "      <td>266262000.0</td>\n",
       "      <td>0.660148</td>\n",
       "    </tr>\n",
       "  </tbody>\n",
       "</table>\n",
       "</div>"
      ],
      "text/plain": [
       "           Shareholder Equity Total Liabilities Debt to Equity\n",
       "2022-06-30        440226000.0       775608000.0       1.761841\n",
       "2021-06-30        428980000.0       683196000.0       1.592606\n",
       "2020-06-30        409210000.0       547025000.0       1.336783\n",
       "2019-06-30        403337000.0       266262000.0       0.660148"
      ]
     },
     "execution_count": 19,
     "metadata": {},
     "output_type": "execute_result"
    }
   ],
   "source": [
    "# Print results\n",
    "\n",
    "debtToEquity"
   ]
  },
  {
   "cell_type": "code",
   "execution_count": null,
   "metadata": {},
   "outputs": [],
   "source": [
    "## Interest Coverage \n",
    "\n"
   ]
  }
 ],
 "metadata": {
  "kernelspec": {
   "display_name": "Python 3",
   "language": "python",
   "name": "python3"
  },
  "language_info": {
   "codemirror_mode": {
    "name": "ipython",
    "version": 3
   },
   "file_extension": ".py",
   "mimetype": "text/x-python",
   "name": "python",
   "nbconvert_exporter": "python",
   "pygments_lexer": "ipython3",
   "version": "3.8.5"
  }
 },
 "nbformat": 4,
 "nbformat_minor": 4
}
