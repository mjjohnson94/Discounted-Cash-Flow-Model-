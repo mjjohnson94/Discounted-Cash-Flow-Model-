{
 "cells": [
  {
   "cell_type": "code",
   "execution_count": 2,
   "metadata": {},
   "outputs": [
    {
     "name": "stderr",
     "output_type": "stream",
     "text": [
      "/Users/mathewjohnson/opt/anaconda3/lib/python3.8/site-packages/pandas/core/computation/expressions.py:20: UserWarning: Pandas requires version '2.7.3' or newer of 'numexpr' (version '2.7.1' currently installed).\n",
      "  from pandas.core.computation.check import NUMEXPR_INSTALLED\n"
     ]
    }
   ],
   "source": [
    "## Import dependencies \n",
    "\n",
    "import yfinance as yf\n",
    "import pandas as pd"
   ]
  },
  {
   "cell_type": "code",
   "execution_count": 3,
   "metadata": {},
   "outputs": [],
   "source": [
    "## Ticker module allows access to ticker data from the Yahoo Finance API \n",
    "\n",
    "# Select a ticker and assign to Ticker module \n",
    "WES = yf.Ticker(\"WES.AX\")\n",
    "\n",
    "# Call Income Statement, Balance Sheet & Cash Flow Statement data from selected ticker \n",
    "# Each element will be used to calculate financial ratios \n",
    "incomeStatement = WES.income_stmt\n",
    "balanceSheet = WES.balance_sheet\n",
    "cashFlowStatement = WES.cashflow"
   ]
  },
  {
   "cell_type": "code",
   "execution_count": 4,
   "metadata": {},
   "outputs": [],
   "source": [
    "############# Liquidity Ratios ############# \n",
    "\n",
    "# Liquidity ratios measure the ability to repay short & long term debt obligations \n",
    "\n",
    "# Debt to Assets  \n",
    "# Current Ratio \n",
    "# Acid Test "
   ]
  },
  {
   "cell_type": "code",
   "execution_count": 5,
   "metadata": {},
   "outputs": [],
   "source": [
    "## Debt to Assets ##\n",
    "\n",
    "# Select total assets & total liabilities from Balance Sheet DataFrame \n",
    "\n",
    "assets = pd.DataFrame(balanceSheet.loc['Total Assets'])\n",
    "liabilities = pd.DataFrame(balanceSheet.loc['Total Liabilities Net Minority Interest'])"
   ]
  },
  {
   "cell_type": "code",
   "execution_count": 6,
   "metadata": {},
   "outputs": [],
   "source": [
    "# Create new DataFrame dispalying total assets & total liabilities using concat to concentrate the two objects \n",
    "\n",
    "debtToAssets = pd.concat([assets['Total Assets'], liabilities['Total Liabilities Net Minority Interest']], \n",
    "                         axis=1, keys=['Assets', 'Liabilities'])\n",
    "\n",
    "\n",
    "# Create a new column named Debt to Assets & divide total assets by total liabilities to calculate the figure \n",
    "debtToAssets['Debt to Assets'] = debtToAssets['Assets'] / debtToAssets['Liabilities']"
   ]
  },
  {
   "cell_type": "code",
   "execution_count": 7,
   "metadata": {},
   "outputs": [
    {
     "data": {
      "text/html": [
       "<div>\n",
       "<style scoped>\n",
       "    .dataframe tbody tr th:only-of-type {\n",
       "        vertical-align: middle;\n",
       "    }\n",
       "\n",
       "    .dataframe tbody tr th {\n",
       "        vertical-align: top;\n",
       "    }\n",
       "\n",
       "    .dataframe thead th {\n",
       "        text-align: right;\n",
       "    }\n",
       "</style>\n",
       "<table border=\"1\" class=\"dataframe\">\n",
       "  <thead>\n",
       "    <tr style=\"text-align: right;\">\n",
       "      <th></th>\n",
       "      <th>Assets</th>\n",
       "      <th>Liabilities</th>\n",
       "      <th>Debt to Assets</th>\n",
       "    </tr>\n",
       "  </thead>\n",
       "  <tbody>\n",
       "    <tr>\n",
       "      <th>2022-06-30</th>\n",
       "      <td>27271000000.0</td>\n",
       "      <td>19290000000.0</td>\n",
       "      <td>1.413738</td>\n",
       "    </tr>\n",
       "    <tr>\n",
       "      <th>2021-06-30</th>\n",
       "      <td>26214000000.0</td>\n",
       "      <td>16499000000.0</td>\n",
       "      <td>1.588824</td>\n",
       "    </tr>\n",
       "    <tr>\n",
       "      <th>2020-06-30</th>\n",
       "      <td>25425000000.0</td>\n",
       "      <td>16081000000.0</td>\n",
       "      <td>1.581058</td>\n",
       "    </tr>\n",
       "    <tr>\n",
       "      <th>2019-06-30</th>\n",
       "      <td>18333000000.0</td>\n",
       "      <td>8362000000.0</td>\n",
       "      <td>2.192418</td>\n",
       "    </tr>\n",
       "  </tbody>\n",
       "</table>\n",
       "</div>"
      ],
      "text/plain": [
       "                   Assets    Liabilities Debt to Assets\n",
       "2022-06-30  27271000000.0  19290000000.0       1.413738\n",
       "2021-06-30  26214000000.0  16499000000.0       1.588824\n",
       "2020-06-30  25425000000.0  16081000000.0       1.581058\n",
       "2019-06-30  18333000000.0   8362000000.0       2.192418"
      ]
     },
     "execution_count": 7,
     "metadata": {},
     "output_type": "execute_result"
    }
   ],
   "source": [
    "# Print results \n",
    "\n",
    "debtToAssets"
   ]
  },
  {
   "cell_type": "code",
   "execution_count": 10,
   "metadata": {},
   "outputs": [],
   "source": [
    "## Current Ratio ## \n",
    "\n",
    "# Select current assets & current liabilities from Balance Sheet DataFrame \n",
    "\n",
    "currentAssets = pd.DataFrame(balanceSheet.loc['Current Assets'])\n",
    "currentLiabilities =  pd.DataFrame(balanceSheet.loc['Current Liabilities'])"
   ]
  },
  {
   "cell_type": "code",
   "execution_count": 15,
   "metadata": {},
   "outputs": [],
   "source": [
    "# Create new DataFrame dispalying total current assets & total current liabilities using concat to concentrate the two objects \n",
    "\n",
    "currentRatio = pd.concat([currentAssets['Current Assets'], currentLiabilities['Current Liabilities']], \n",
    "                         axis=1, keys=['Current Assets', 'Current Liabilities'])\n"
   ]
  },
  {
   "cell_type": "code",
   "execution_count": 17,
   "metadata": {},
   "outputs": [],
   "source": [
    "# Create a new column named Current Ratio & divide total current assets by total current liabilities to calculate the figure \n",
    "\n",
    "currentRatio['Current Ratio'] = currentRatio['Current Assets'] / currentRatio['Current Liabilities']"
   ]
  },
  {
   "cell_type": "code",
   "execution_count": 18,
   "metadata": {},
   "outputs": [
    {
     "data": {
      "text/html": [
       "<div>\n",
       "<style scoped>\n",
       "    .dataframe tbody tr th:only-of-type {\n",
       "        vertical-align: middle;\n",
       "    }\n",
       "\n",
       "    .dataframe tbody tr th {\n",
       "        vertical-align: top;\n",
       "    }\n",
       "\n",
       "    .dataframe thead th {\n",
       "        text-align: right;\n",
       "    }\n",
       "</style>\n",
       "<table border=\"1\" class=\"dataframe\">\n",
       "  <thead>\n",
       "    <tr style=\"text-align: right;\">\n",
       "      <th></th>\n",
       "      <th>Current Assets</th>\n",
       "      <th>Current Liabilities</th>\n",
       "      <th>Current Ratio</th>\n",
       "    </tr>\n",
       "  </thead>\n",
       "  <tbody>\n",
       "    <tr>\n",
       "      <th>2022-06-30</th>\n",
       "      <td>9605000000.0</td>\n",
       "      <td>8893000000.0</td>\n",
       "      <td>1.080063</td>\n",
       "    </tr>\n",
       "    <tr>\n",
       "      <th>2021-06-30</th>\n",
       "      <td>9096000000.0</td>\n",
       "      <td>7915000000.0</td>\n",
       "      <td>1.14921</td>\n",
       "    </tr>\n",
       "    <tr>\n",
       "      <th>2020-06-30</th>\n",
       "      <td>8064000000.0</td>\n",
       "      <td>7270000000.0</td>\n",
       "      <td>1.109216</td>\n",
       "    </tr>\n",
       "    <tr>\n",
       "      <th>2019-06-30</th>\n",
       "      <td>6350000000.0</td>\n",
       "      <td>5216000000.0</td>\n",
       "      <td>1.217408</td>\n",
       "    </tr>\n",
       "  </tbody>\n",
       "</table>\n",
       "</div>"
      ],
      "text/plain": [
       "           Current Assets Current Liabilities Current Ratio\n",
       "2022-06-30   9605000000.0        8893000000.0      1.080063\n",
       "2021-06-30   9096000000.0        7915000000.0       1.14921\n",
       "2020-06-30   8064000000.0        7270000000.0      1.109216\n",
       "2019-06-30   6350000000.0        5216000000.0      1.217408"
      ]
     },
     "execution_count": 18,
     "metadata": {},
     "output_type": "execute_result"
    }
   ],
   "source": [
    "# Print results \n",
    "\n",
    "currentRatio"
   ]
  },
  {
   "cell_type": "code",
   "execution_count": 38,
   "metadata": {},
   "outputs": [],
   "source": [
    "## Acid Test \n",
    "\n",
    "# Create acidTest DataFrame containing current assets & current liabilities from Balance Sheet object \n",
    "\n",
    "acidTest = pd.concat([currentAssets['Current Assets'], currentLiabilities['Current Liabilities']], \n",
    "                         axis=1, keys=['Current Assets', 'Current Liabilities'])\n",
    "\n",
    "# Create a new column named Inventory and locate Inventory data from Balance Sheet object \n",
    "\n",
    "acidTest['Inventory'] = pd.DataFrame(balanceSheet.loc['Inventory'])\n",
    "\n",
    "# Create a new column named Acid Test and calculate by deducting inentory from current assets & dividing by current liabilities\n",
    "acidTest['Acid Test'] = (acidTest['Current Assets'] - acidTest['Inventory']) / acidTest['Current Liabilities']                                                                              "
   ]
  },
  {
   "cell_type": "code",
   "execution_count": 39,
   "metadata": {},
   "outputs": [
    {
     "data": {
      "text/html": [
       "<div>\n",
       "<style scoped>\n",
       "    .dataframe tbody tr th:only-of-type {\n",
       "        vertical-align: middle;\n",
       "    }\n",
       "\n",
       "    .dataframe tbody tr th {\n",
       "        vertical-align: top;\n",
       "    }\n",
       "\n",
       "    .dataframe thead th {\n",
       "        text-align: right;\n",
       "    }\n",
       "</style>\n",
       "<table border=\"1\" class=\"dataframe\">\n",
       "  <thead>\n",
       "    <tr style=\"text-align: right;\">\n",
       "      <th></th>\n",
       "      <th>Current Assets</th>\n",
       "      <th>Current Liabilities</th>\n",
       "      <th>Inventory</th>\n",
       "      <th>Acid Test</th>\n",
       "    </tr>\n",
       "  </thead>\n",
       "  <tbody>\n",
       "    <tr>\n",
       "      <th>2022-06-30</th>\n",
       "      <td>9605000000.0</td>\n",
       "      <td>8893000000.0</td>\n",
       "      <td>6084000000.0</td>\n",
       "      <td>0.395929</td>\n",
       "    </tr>\n",
       "    <tr>\n",
       "      <th>2021-06-30</th>\n",
       "      <td>9096000000.0</td>\n",
       "      <td>7915000000.0</td>\n",
       "      <td>4502000000.0</td>\n",
       "      <td>0.580417</td>\n",
       "    </tr>\n",
       "    <tr>\n",
       "      <th>2020-06-30</th>\n",
       "      <td>8064000000.0</td>\n",
       "      <td>7270000000.0</td>\n",
       "      <td>3844000000.0</td>\n",
       "      <td>0.580468</td>\n",
       "    </tr>\n",
       "    <tr>\n",
       "      <th>2019-06-30</th>\n",
       "      <td>6350000000.0</td>\n",
       "      <td>5216000000.0</td>\n",
       "      <td>4246000000.0</td>\n",
       "      <td>0.403374</td>\n",
       "    </tr>\n",
       "  </tbody>\n",
       "</table>\n",
       "</div>"
      ],
      "text/plain": [
       "           Current Assets Current Liabilities     Inventory Acid Test\n",
       "2022-06-30   9605000000.0        8893000000.0  6084000000.0  0.395929\n",
       "2021-06-30   9096000000.0        7915000000.0  4502000000.0  0.580417\n",
       "2020-06-30   8064000000.0        7270000000.0  3844000000.0  0.580468\n",
       "2019-06-30   6350000000.0        5216000000.0  4246000000.0  0.403374"
      ]
     },
     "execution_count": 39,
     "metadata": {},
     "output_type": "execute_result"
    }
   ],
   "source": [
    "# Print results \n",
    "\n",
    "acidTest"
   ]
  },
  {
   "cell_type": "code",
   "execution_count": null,
   "metadata": {},
   "outputs": [],
   "source": []
  }
 ],
 "metadata": {
  "kernelspec": {
   "display_name": "Python 3",
   "language": "python",
   "name": "python3"
  },
  "language_info": {
   "codemirror_mode": {
    "name": "ipython",
    "version": 3
   },
   "file_extension": ".py",
   "mimetype": "text/x-python",
   "name": "python",
   "nbconvert_exporter": "python",
   "pygments_lexer": "ipython3",
   "version": "3.8.5"
  }
 },
 "nbformat": 4,
 "nbformat_minor": 4
}
