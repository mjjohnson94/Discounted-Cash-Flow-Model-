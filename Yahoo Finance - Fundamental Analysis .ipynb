{
 "cells": [
  {
   "cell_type": "code",
   "execution_count": 91,
   "metadata": {},
   "outputs": [],
   "source": [
    "## Import dependencies \n",
    "\n",
    "import yfinance as yf\n",
    "import pandas as pd"
   ]
  },
  {
   "cell_type": "code",
   "execution_count": 92,
   "metadata": {},
   "outputs": [],
   "source": [
    "## Ticker module allows access to ticker data from the Yahoo Finance API \n",
    "\n",
    "# Select a ticker and assign to Ticker module \n",
    "WES = yf.Ticker(\"WES.AX\")\n",
    "\n",
    "# Call Income Statement, Balance Sheet & Cash Flow Statement data from selected ticker \n",
    "# Each element will be used to calculate financial ratios \n",
    "incomeStatement = WES.income_stmt\n",
    "balanceSheet = WES.balance_sheet\n",
    "cashFlowStatement = WES.cashflow"
   ]
  },
  {
   "cell_type": "code",
   "execution_count": 130,
   "metadata": {},
   "outputs": [],
   "source": [
    "############# Liquidity Ratios ############# \n",
    "\n",
    "# Liquidity ratios measure the ability to repay short & long term debt obligations \n",
    "\n",
    "# Current Ratio \n",
    "# "
   ]
  },
  {
   "cell_type": "code",
   "execution_count": 115,
   "metadata": {},
   "outputs": [
    {
     "data": {
      "text/html": [
       "<div>\n",
       "<style scoped>\n",
       "    .dataframe tbody tr th:only-of-type {\n",
       "        vertical-align: middle;\n",
       "    }\n",
       "\n",
       "    .dataframe tbody tr th {\n",
       "        vertical-align: top;\n",
       "    }\n",
       "\n",
       "    .dataframe thead th {\n",
       "        text-align: right;\n",
       "    }\n",
       "</style>\n",
       "<table border=\"1\" class=\"dataframe\">\n",
       "  <thead>\n",
       "    <tr style=\"text-align: right;\">\n",
       "      <th></th>\n",
       "      <th>Total Assets</th>\n",
       "    </tr>\n",
       "  </thead>\n",
       "  <tbody>\n",
       "    <tr>\n",
       "      <th>2022-06-30</th>\n",
       "      <td>27271000000.0</td>\n",
       "    </tr>\n",
       "    <tr>\n",
       "      <th>2021-06-30</th>\n",
       "      <td>26214000000.0</td>\n",
       "    </tr>\n",
       "    <tr>\n",
       "      <th>2020-06-30</th>\n",
       "      <td>25425000000.0</td>\n",
       "    </tr>\n",
       "    <tr>\n",
       "      <th>2019-06-30</th>\n",
       "      <td>18333000000.0</td>\n",
       "    </tr>\n",
       "  </tbody>\n",
       "</table>\n",
       "</div>"
      ],
      "text/plain": [
       "             Total Assets\n",
       "2022-06-30  27271000000.0\n",
       "2021-06-30  26214000000.0\n",
       "2020-06-30  25425000000.0\n",
       "2019-06-30  18333000000.0"
      ]
     },
     "execution_count": 115,
     "metadata": {},
     "output_type": "execute_result"
    }
   ],
   "source": [
    "# Current Ratio \n",
    "\n",
    "# Select Assets & Liabilities from Balance Sheet DataFrame \n",
    "\n",
    "assets = pd.DataFrame(balanceSheet.loc['Total Assets'])\n",
    "liabilities = pd.DataFrame(balanceSheet.loc['Total Liabilities Net Minority Interest'])"
   ]
  },
  {
   "cell_type": "code",
   "execution_count": 128,
   "metadata": {},
   "outputs": [],
   "source": [
    "# Create new DataFrame dispalying total assets & total liabilities using concat to concentrate the two objects \n",
    "\n",
    "currentRatio = pd.concat([assets['Total Assets'], liabilities['Total Liabilities Net Minority Interest']], \n",
    "                         axis=1, keys=['Assets', 'Liabilities'])\n",
    "\n",
    "\n",
    "# Create a new column named Current Ratio & divide total assets by total liabilities to calculate the figure \n",
    "currentRatio['Current Ratio'] = currentRatio['Assets'] / currentRatio['Liabilities']"
   ]
  },
  {
   "cell_type": "code",
   "execution_count": 129,
   "metadata": {},
   "outputs": [
    {
     "data": {
      "text/html": [
       "<div>\n",
       "<style scoped>\n",
       "    .dataframe tbody tr th:only-of-type {\n",
       "        vertical-align: middle;\n",
       "    }\n",
       "\n",
       "    .dataframe tbody tr th {\n",
       "        vertical-align: top;\n",
       "    }\n",
       "\n",
       "    .dataframe thead th {\n",
       "        text-align: right;\n",
       "    }\n",
       "</style>\n",
       "<table border=\"1\" class=\"dataframe\">\n",
       "  <thead>\n",
       "    <tr style=\"text-align: right;\">\n",
       "      <th></th>\n",
       "      <th>Assets</th>\n",
       "      <th>Liabilities</th>\n",
       "      <th>Current Ratio</th>\n",
       "    </tr>\n",
       "  </thead>\n",
       "  <tbody>\n",
       "    <tr>\n",
       "      <th>2022-06-30</th>\n",
       "      <td>27271000000.0</td>\n",
       "      <td>19290000000.0</td>\n",
       "      <td>1.413738</td>\n",
       "    </tr>\n",
       "    <tr>\n",
       "      <th>2021-06-30</th>\n",
       "      <td>26214000000.0</td>\n",
       "      <td>16499000000.0</td>\n",
       "      <td>1.588824</td>\n",
       "    </tr>\n",
       "    <tr>\n",
       "      <th>2020-06-30</th>\n",
       "      <td>25425000000.0</td>\n",
       "      <td>16081000000.0</td>\n",
       "      <td>1.581058</td>\n",
       "    </tr>\n",
       "    <tr>\n",
       "      <th>2019-06-30</th>\n",
       "      <td>18333000000.0</td>\n",
       "      <td>8362000000.0</td>\n",
       "      <td>2.192418</td>\n",
       "    </tr>\n",
       "  </tbody>\n",
       "</table>\n",
       "</div>"
      ],
      "text/plain": [
       "                   Assets    Liabilities Current Ratio\n",
       "2022-06-30  27271000000.0  19290000000.0      1.413738\n",
       "2021-06-30  26214000000.0  16499000000.0      1.588824\n",
       "2020-06-30  25425000000.0  16081000000.0      1.581058\n",
       "2019-06-30  18333000000.0   8362000000.0      2.192418"
      ]
     },
     "execution_count": 129,
     "metadata": {},
     "output_type": "execute_result"
    }
   ],
   "source": [
    "# Print results \n",
    "\n",
    "currentRatio"
   ]
  },
  {
   "cell_type": "code",
   "execution_count": null,
   "metadata": {},
   "outputs": [],
   "source": []
  }
 ],
 "metadata": {
  "kernelspec": {
   "display_name": "Python 3",
   "language": "python",
   "name": "python3"
  },
  "language_info": {
   "codemirror_mode": {
    "name": "ipython",
    "version": 3
   },
   "file_extension": ".py",
   "mimetype": "text/x-python",
   "name": "python",
   "nbconvert_exporter": "python",
   "pygments_lexer": "ipython3",
   "version": "3.8.5"
  }
 },
 "nbformat": 4,
 "nbformat_minor": 4
}
